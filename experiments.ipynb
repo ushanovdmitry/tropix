{
 "cells": [
  {
   "cell_type": "code",
   "execution_count": 2,
   "metadata": {
    "pycharm": {
     "is_executing": false
    }
   },
   "outputs": [],
   "source": [
    "import math\n",
    "\n",
    "from matplotlib import pyplot as plt\n",
    "%matplotlib qt5\n",
    "\n",
    "import torch\n",
    "import torch.nn as nn\n",
    "\n",
    "from torch.optim.rmsprop import RMSprop\n",
    "# from torch.optim.optimizer import Optimizer\n",
    "from torch.optim import Adam\n",
    "\n",
    "from tropix_linear import TropixLinear\n",
    "\n"
   ]
  },
  {
   "cell_type": "code",
   "execution_count": 9,
   "metadata": {
    "pycharm": {
     "is_executing": false,
     "name": "#%%\n"
    }
   },
   "outputs": [],
   "source": [
    "class Module1D(nn.Module):\n",
    "    def plot(self, ax, start, stop, num: int):\n",
    "        training = self.training\n",
    "        \n",
    "        self.eval()\n",
    "\n",
    "        with torch.no_grad():\n",
    "            y = torch.linspace(start, stop, num).view(-1, 1)\n",
    "            z = self.forward(y)\n",
    "            ax.plot(y.numpy(), z.detach().numpy(), '-')\n",
    "\n",
    "        self.train(training)\n",
    "\n",
    "\n",
    "class TrueFunc(Module1D):\n",
    "    dim_in = 1\n",
    "    dim_out = 1\n",
    "\n",
    "    def forward(self, y) -> torch.Tensor:\n",
    "        # return y ** 3\n",
    "        return 3 * y ** 2 - torch.sin(y * 5) * (y - 0.2)\n",
    "\n",
    "\n",
    "class Func(Module1D):\n",
    "    def __init__(self, dim_in, dim_out):\n",
    "        super(Func, self).__init__()\n",
    "\n",
    "        self.net = nn.Sequential(\n",
    "            TropixLinear(dim_in, 50, True, False),\n",
    "            nn.ReLU(),\n",
    "            TropixLinear(50, 50, True, True),\n",
    "            nn.ReLU(),\n",
    "            nn.Dropout(p=0.5),\n",
    "            TropixLinear(50, 50, True, True),\n",
    "            nn.ReLU(),\n",
    "            nn.Dropout(p=0.5),\n",
    "            TropixLinear(50, dim_out, True, False)\n",
    "        )\n",
    "\n",
    "        for m in self.net.modules():\n",
    "            if isinstance(m, nn.Linear):\n",
    "                nn.init.normal_(m.weight, mean=0, std=0.2)\n",
    "                nn.init.constant_(m.bias, val=0)\n",
    "\n",
    "    def forward(self, y):\n",
    "        return self.net(y)\n",
    "    \n",
    "    def switch_to_tropix(self, behave_as_tropix=True):\n",
    "        for layer in self.net:\n",
    "            if isinstance(layer, TropixLinear):\n",
    "                layer.behave_as_tropix = behave_as_tropix\n"
   ]
  },
  {
   "cell_type": "code",
   "execution_count": null,
   "metadata": {},
   "outputs": [],
   "source": []
  },
  {
   "cell_type": "code",
   "execution_count": 10,
   "metadata": {
    "pycharm": {
     "is_executing": false,
     "name": "#%%\n"
    }
   },
   "outputs": [],
   "source": [
    "func = Func(TrueFunc.dim_in, TrueFunc.dim_out)\n",
    "# func.switch_to_tropix(True)\n",
    "\n",
    "optimizer = Adam(func.parameters())\n",
    "\n",
    "losses = []\n",
    "\n",
    "fig = plt.figure(figsize=(12, 4), facecolor='white')  # type: plt.Figure\n",
    "ax = fig.add_subplot(111)\n",
    "\n",
    "for i in range(2500):\n",
    "    y = torch.linspace(-1.0, 1.0, 15).view(-1, 1)\n",
    "    y = y + torch.randn_like(y) * (1 - math.tanh(10.0 * i / 2500.0))\n",
    "    z = TrueFunc().forward(y)\n",
    "\n",
    "#     if i > 10:\n",
    "#         func.switch_to_tropix(i % 2 == 0)\n",
    "\n",
    "    func.train()\n",
    "    z_ = func(y)\n",
    "    loss = torch.nn.functional.mse_loss(z, z_)  # type: torch.Tensor\n",
    "    losses.append(loss.detach().item())\n",
    "\n",
    "    optimizer.zero_grad()\n",
    "    loss.backward()\n",
    "\n",
    "    optimizer.step()\n",
    "\n",
    "    if i % 10 == 0:\n",
    "#         with torch.no_grad():\n",
    "#             y = torch.linspace(-1.0, 1.0, 100).view(-1, 1)\n",
    "#             z = TrueFunc().forward(y)\n",
    "#             z_ = func(y)\n",
    "\n",
    "        ax.cla()\n",
    "        TrueFunc().plot(ax, -1.0, 1.0, 100)\n",
    "        func.plot(ax, -1.0, 1.0, 100)\n",
    "#         ax.plot(y.detach().numpy(), z.detach().numpy(), '-')\n",
    "#         ax.plot(y.detach().numpy(), z_.detach().numpy(), '-')\n",
    "        ax.set_title(f'{i}')\n",
    "\n",
    "        plt.draw()\n",
    "        plt.pause(0.05)\n",
    "\n"
   ]
  },
  {
   "cell_type": "code",
   "execution_count": null,
   "metadata": {
    "pycharm": {
     "is_executing": false
    }
   },
   "outputs": [],
   "source": [
    "# func.switch_to_tropix(True)\n",
    "\n",
    "fig = plt.figure()\n",
    "ax = fig.add_subplot(111)\n",
    "\n",
    "TrueFunc().plot(ax, -1.0, 1.0, 100)\n",
    "func.plot(ax, -1.0, 1.0, 100)\n",
    "\n",
    "plt.draw()"
   ]
  }
 ],
 "metadata": {
  "kernelspec": {
   "display_name": "Python 3",
   "language": "python",
   "name": "python3"
  },
  "language_info": {
   "codemirror_mode": {
    "name": "ipython",
    "version": 3
   },
   "file_extension": ".py",
   "mimetype": "text/x-python",
   "name": "python",
   "nbconvert_exporter": "python",
   "pygments_lexer": "ipython3",
   "version": "3.7.3"
  },
  "pycharm": {
   "stem_cell": {
    "cell_type": "raw",
    "metadata": {
     "collapsed": false
    },
    "source": []
   }
  }
 },
 "nbformat": 4,
 "nbformat_minor": 1
}
